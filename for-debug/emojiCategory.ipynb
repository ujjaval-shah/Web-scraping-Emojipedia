{
 "metadata": {
  "language_info": {
   "codemirror_mode": {
    "name": "ipython",
    "version": 3
   },
   "file_extension": ".py",
   "mimetype": "text/x-python",
   "name": "python",
   "nbconvert_exporter": "python",
   "pygments_lexer": "ipython3",
   "version": "3.7.7-final"
  },
  "orig_nbformat": 2,
  "kernelspec": {
   "name": "python3",
   "display_name": "Python 3.7.7 32-bit",
   "metadata": {
    "interpreter": {
     "hash": "ac1241768a571afb2340b55f25e4d28259aa0600cc6e74978ed5bb0ebb17c0a9"
    }
   }
  }
 },
 "nbformat": 4,
 "nbformat_minor": 2,
 "cells": [
  {
   "cell_type": "code",
   "execution_count": 2,
   "metadata": {},
   "outputs": [],
   "source": [
    "import json\n",
    "import httplib2\n",
    "from bs4 import BeautifulSoup\n",
    "http = httplib2.Http()\n",
    "\n",
    "with open('categoryDetails.json') as json_file:\n",
    "    data = json.load(json_file)\n",
    "\n",
    "obj1 = data[\"categories\"][1]\n",
    "url = data['home'] + obj1['url'][1:]\n",
    "status, response = http.request(url)\n",
    "\n",
    "soup = BeautifulSoup(response)"
   ]
  },
  {
   "cell_type": "code",
   "execution_count": 3,
   "metadata": {},
   "outputs": [
    {
     "output_type": "execute_result",
     "data": {
      "text/plain": [
       "<h1>\n",
       "<span class=\"emoji\">🐻</span>\n",
       "Animals &amp; Nature\n",
       "</h1>"
      ]
     },
     "metadata": {},
     "execution_count": 3
    }
   ],
   "source": [
    "soup = BeautifulSoup(response)\n",
    "# print(soup.ul)\n",
    "\n",
    "div_node = soup.find('div',{'class':'content'})\n",
    "\n",
    "div_node.h1"
   ]
  },
  {
   "cell_type": "code",
   "execution_count": 4,
   "metadata": {},
   "outputs": [
    {
     "output_type": "execute_result",
     "data": {
      "text/plain": [
       "{'class': ['emoji-list']}"
      ]
     },
     "metadata": {},
     "execution_count": 4
    }
   ],
   "source": [
    "div_node.ul.attrs"
   ]
  },
  {
   "cell_type": "code",
   "execution_count": 5,
   "metadata": {},
   "outputs": [],
   "source": [
    "title = div_node.h1"
   ]
  },
  {
   "cell_type": "code",
   "execution_count": 6,
   "metadata": {},
   "outputs": [
    {
     "output_type": "execute_result",
     "data": {
      "text/plain": [
       "'🐻'"
      ]
     },
     "metadata": {},
     "execution_count": 6
    }
   ],
   "source": [
    "title.span.text"
   ]
  },
  {
   "cell_type": "code",
   "execution_count": 7,
   "metadata": {},
   "outputs": [],
   "source": [
    "title.span.decompose()"
   ]
  },
  {
   "cell_type": "code",
   "execution_count": 8,
   "metadata": {},
   "outputs": [
    {
     "output_type": "execute_result",
     "data": {
      "text/plain": [
       "'Animals & Nature'"
      ]
     },
     "metadata": {},
     "execution_count": 8
    }
   ],
   "source": [
    "titleText = title.text\n",
    "titleText.strip()"
   ]
  },
  {
   "cell_type": "code",
   "execution_count": 9,
   "metadata": {},
   "outputs": [],
   "source": [
    "liList = div_node.ul.find_all('li')"
   ]
  },
  {
   "cell_type": "code",
   "execution_count": 10,
   "metadata": {},
   "outputs": [],
   "source": [
    "# for node in liList:\n",
    "#     print(node.span.text)\n",
    "#     node.span.decompose()\n",
    "#     print(node.text.strip())\n",
    "#     print(node.a['href'])"
   ]
  },
  {
   "cell_type": "code",
   "execution_count": 11,
   "metadata": {},
   "outputs": [],
   "source": [
    "emojiList = []\n",
    "\n",
    "for node in liList:\n",
    "    emoji = {}\n",
    "    emoji['emoji'] = node.span.text\n",
    "    node.span.decompose()\n",
    "    emoji['name'] = node.text.strip()\n",
    "    emoji['url'] = node.a['href']\n",
    "    emojiList.append(emoji)"
   ]
  },
  {
   "cell_type": "code",
   "execution_count": 12,
   "metadata": {},
   "outputs": [],
   "source": [
    "# emojiList"
   ]
  },
  {
   "cell_type": "code",
   "execution_count": 13,
   "metadata": {},
   "outputs": [],
   "source": [
    "dump_obj = {\n",
    "    \"category\" : obj1['category'],\n",
    "    \"emojiList\" : emojiList\n",
    "}\n",
    "\n",
    "# dump_obj"
   ]
  },
  {
   "cell_type": "code",
   "execution_count": 14,
   "metadata": {},
   "outputs": [],
   "source": [
    "with open('category1.json', 'w') as outfile:\n",
    "    json.dump(dump_obj, outfile, indent = 4, sort_keys=True)"
   ]
  },
  {
   "cell_type": "code",
   "execution_count": null,
   "metadata": {},
   "outputs": [],
   "source": []
  }
 ]
}