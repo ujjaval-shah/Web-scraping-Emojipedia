{
 "metadata": {
  "language_info": {
   "codemirror_mode": {
    "name": "ipython",
    "version": 3
   },
   "file_extension": ".py",
   "mimetype": "text/x-python",
   "name": "python",
   "nbconvert_exporter": "python",
   "pygments_lexer": "ipython3",
   "version": "3.7.7-final"
  },
  "orig_nbformat": 2,
  "kernelspec": {
   "name": "python37732bit17c79a8524604a438bb05089a824675b",
   "display_name": "Python 3.7.7 32-bit"
  }
 },
 "nbformat": 4,
 "nbformat_minor": 2,
 "cells": [
  {
   "cell_type": "code",
   "execution_count": 1,
   "metadata": {},
   "outputs": [],
   "source": [
    "import json\n",
    "import httplib2\n",
    "from bs4 import BeautifulSoup\n",
    "http = httplib2.Http()\n",
    "\n",
    "with open('categoryDetails.json') as json_file:\n",
    "    data = json.load(json_file)\n",
    "\n",
    "obj1 = {\n",
    "    \"emoji\": \"\\ud83c\\udf89\",\n",
    "    \"name\": \"Party Popper\",\n",
    "    \"url\": \"/party-popper/\"\n",
    "}\n",
    "\n",
    "url = data['home'] + obj1['url'][1:]\n",
    "status, response = http.request(url)\n",
    "\n",
    "soup = BeautifulSoup(response)"
   ]
  },
  {
   "cell_type": "code",
   "execution_count": 2,
   "metadata": {},
   "outputs": [
    {
     "output_type": "stream",
     "name": "stdout",
     "text": [
      "🎉\nParty Popper\n"
     ]
    }
   ],
   "source": [
    "articleNode = soup.article\n",
    "H_1 = articleNode.h1\n",
    "print(H_1.span.text)\n",
    "H_1.span.decompose()\n",
    "print(H_1.text.strip())"
   ]
  },
  {
   "cell_type": "code",
   "execution_count": 3,
   "metadata": {},
   "outputs": [
    {
     "output_type": "stream",
     "name": "stdout",
     "text": [
      ">> A party popper, as explodes in a shower of confetti and streamers at a celebration. Generally depicted as a gold party hat, striped on some platforms, at a 45° angle, with multicolored confetti and streamers coming from its opening at the upper right. Twitter’s cone is red.\n>> Like 🎊 Confetti Ball, commonly used to convey congratulations and celebration, as on New Year’s Eve, birthdays, wedding days, graduations, and other special occasions or good times more generally.\n>> Party Popper was approved as part of Unicode 6.0 in 2010\nand added to Emoji 1.0 in 2015.\n\n['/confetti-ball/', '/new-years-eve/', '/birthday/', '/wedding-marriage/', '/graduation/', '/unicode-6.0/', '/emoji-1.0/']\n"
     ]
    }
   ],
   "source": [
    "sectionNode = articleNode.find('section',{'class':['description']})\n",
    "sectionNode.h2.decompose()\n",
    "sectionNode.form.decompose()\n",
    "sectionNode.h2.decompose()\n",
    "\n",
    "aNodes = sectionNode.findAll('a')\n",
    "aHrefLinks = [i['href'] for i in aNodes]\n",
    "\n",
    "# print(sectionNode.prettify())\n",
    "# pNodes = sectionNode.findAll('p')\n",
    "# emInfoList = [pNode.text.strip() for pNode in pNodes]\n",
    "# for aLine in emInfoList:\n",
    "#     print(\">>\",aLine)\n",
    "# Edit-1\n",
    "\n",
    "print()\n",
    "print(aHrefLinks)"
   ]
  }
 ]
}