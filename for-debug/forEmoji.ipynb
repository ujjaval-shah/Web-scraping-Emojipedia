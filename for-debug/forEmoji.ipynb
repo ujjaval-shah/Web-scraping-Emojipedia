{
 "metadata": {
  "language_info": {
   "codemirror_mode": {
    "name": "ipython",
    "version": 3
   },
   "file_extension": ".py",
   "mimetype": "text/x-python",
   "name": "python",
   "nbconvert_exporter": "python",
   "pygments_lexer": "ipython3",
   "version": "3.7.7-final"
  },
  "orig_nbformat": 2,
  "kernelspec": {
   "name": "python3",
   "display_name": "Python 3.7.7 32-bit",
   "metadata": {
    "interpreter": {
     "hash": "ac1241768a571afb2340b55f25e4d28259aa0600cc6e74978ed5bb0ebb17c0a9"
    }
   }
  }
 },
 "nbformat": 4,
 "nbformat_minor": 2,
 "cells": [
  {
   "cell_type": "code",
   "execution_count": 66,
   "metadata": {},
   "outputs": [],
   "source": [
    "import json\n",
    "import httplib2\n",
    "from bs4 import BeautifulSoup\n",
    "http = httplib2.Http()\n",
    "\n",
    "with open('../categoryDetails.json') as json_file:\n",
    "    data = json.load(json_file)\n",
    "\n",
    "obj1 =                 {\n",
    "                    \"emoji\": \"\\ud83e\\uddf6\",\n",
    "                    \"name\": \"Yarn\",\n",
    "                    \"url\": \"/yarn/\"\n",
    "                }\n",
    "\n",
    "url = data['home'] + obj1['url'][1:]\n",
    "status, response = http.request(url)\n",
    "\n",
    "soup = BeautifulSoup(response)"
   ]
  },
  {
   "cell_type": "code",
   "execution_count": 67,
   "metadata": {
    "tags": []
   },
   "outputs": [],
   "source": [
    "# print(soup.article.prettify())"
   ]
  },
  {
   "cell_type": "code",
   "execution_count": 68,
   "metadata": {},
   "outputs": [
    {
     "output_type": "stream",
     "name": "stdout",
     "text": [
      "🧶\nYarn\n"
     ]
    }
   ],
   "source": [
    "\n",
    "articleNode = soup.article\n",
    "H_1 = articleNode.h1\n",
    "print(H_1.span.text)\n",
    "H_1.span.decompose()\n",
    "print(H_1.text.strip())"
   ]
  },
  {
   "cell_type": "code",
   "execution_count": 69,
   "metadata": {},
   "outputs": [
    {
     "output_type": "stream",
     "name": "stdout",
     "text": [
      ">> A ball of yarn, as used to knit a scarf. Color varies across platforms, but often depicted in green, blue, or magenta and shown with an end unraveling. Sometimes depicted with a pair of knitting needles stuck in the ball.\n>> Commonly used for various content concerning knitting and needlework (e.g., sewing, crocheting), clothing and fashion, arts and crafts, cold weather, and cats.\n>> Yarn was approved as part of Unicode 11.0 in 2018\nunder the name “Ball of Yarn”\nand added to Emoji 11.0 in 2018.\n"
     ]
    }
   ],
   "source": [
    "sectionNode = articleNode.find('section',{'class':['description']})\n",
    "sectionNode.h2.decompose()\n",
    "sectionNode.form.decompose()\n",
    "sectionNode.h2.decompose()\n",
    "# print(sectionNode.prettify())\n",
    "pNodes = sectionNode.findAll('p')\n",
    "emInfoList = [pNode.text.strip() for pNode in pNodes]\n",
    "for aLine in emInfoList:\n",
    "    print(\">>\",aLine)\n",
    "# Edit-1"
   ]
  },
  {
   "cell_type": "code",
   "execution_count": 70,
   "metadata": {},
   "outputs": [],
   "source": [
    "## aliases\n",
    "try:\n",
    "    sectionNode = articleNode.find('section',{'class':['aliases']})\n",
    "    sectionNode.h2.decompose()\n",
    "    for spanNode in sectionNode.findAll('span'):\n",
    "        spanNode.decompose()\n",
    "    for liNode in sectionNode.findAll('li'):\n",
    "        print(liNode.text.strip())\n",
    "except:\n",
    "    pass"
   ]
  },
  {
   "cell_type": "code",
   "execution_count": 71,
   "metadata": {},
   "outputs": [
    {
     "output_type": "stream",
     "name": "stdout",
     "text": [
      "Ball of Yarn\n"
     ]
    }
   ],
   "source": [
    "## unicodename\n",
    "sectionNode = articleNode.find('section',{'class':['unicodename']})\n",
    "sectionNode.h2.decompose()\n",
    "sectionNode.span.decompose()\n",
    "print(sectionNode.p.text.strip())"
   ]
  },
  {
   "cell_type": "code",
   "execution_count": 72,
   "metadata": {},
   "outputs": [
    {
     "output_type": "stream",
     "name": "stdout",
     "text": [
      "Yarn\n"
     ]
    }
   ],
   "source": [
    "## applenames\n",
    "sectionNode = articleNode.find('section',{'class':['applenames']})\n",
    "sectionNode.h2.decompose()\n",
    "sectionNode.span.decompose()\n",
    "print(sectionNode.p.text.strip())"
   ]
  },
  {
   "cell_type": "code",
   "execution_count": 73,
   "metadata": {
    "tags": []
   },
   "outputs": [
    {
     "output_type": "stream",
     "name": "stdout",
     "text": [
      "{'Google': 'https://emojipedia-us.s3.dualstack.us-west-1.amazonaws.com/thumbs/120/google/263/yarn_1f9f6.png', 'Apple': 'https://emojipedia-us.s3.dualstack.us-west-1.amazonaws.com/thumbs/120/apple/271/yarn_1f9f6.png', 'Facebook': 'https://emojipedia-us.s3.dualstack.us-west-1.amazonaws.com/thumbs/120/facebook/230/ball-of-yarn_1f9f6.png', 'WhatsApp': 'https://emojipedia-us.s3.dualstack.us-west-1.amazonaws.com/thumbs/120/whatsapp/268/yarn_1f9f6.png'}\n"
     ]
    }
   ],
   "source": [
    "# Edit-2\n",
    "sectionNode = articleNode.find('section',{'class':['vendor-list']})\n",
    "allLi = sectionNode.findAll('li')\n",
    "vendorList = ['Google','Apple','Facebook','WhatsApp']\n",
    "myImgDict = {'Google': None,'Apple': None,'Facebook': None,'WhatsApp': None}\n",
    "# print(allLi)\n",
    "for liNode in allLi:\n",
    "    try:\n",
    "        vendor = liNode.a.text\n",
    "        if vendor in vendorList:\n",
    "            myImgDict[vendor] = liNode.img['src']\n",
    "    except:\n",
    "        print(liNode)\n",
    "        break\n",
    "print(myImgDict)\n",
    "sectionNode.decompose()"
   ]
  },
  {
   "cell_type": "code",
   "execution_count": 74,
   "metadata": {},
   "outputs": [
    {
     "output_type": "stream",
     "name": "stdout",
     "text": [
      "Codepoints\n<ul>\n<li><a href=\"/emoji/%F0%9F%A7%B6/\">🧶 U+1F9F6</a></li>\n</ul>\n\n"
     ]
    }
   ],
   "source": [
    "### Codepoints\n",
    "\n",
    "H_2list = articleNode.find_all('h2')\n",
    "\n",
    "codeNode = H_2list[0]\n",
    "print(codeNode.text)\n",
    "codeUL = codeNode.find_next_sibling()\n",
    "print(codeUL)\n",
    "print()\n",
    "liObj = codeUL.find('li')\n",
    "# print(liObj.text[2:])"
   ]
  },
  {
   "cell_type": "code",
   "execution_count": 75,
   "metadata": {},
   "outputs": [
    {
     "output_type": "stream",
     "name": "stdout",
     "text": [
      "Shortcodes\n:yarn:\n['Github', 'Slack', 'Emojipedia']\n"
     ]
    }
   ],
   "source": [
    "### Shortcodes\n",
    "\n",
    "codeNode = H_2list[1]\n",
    "print(codeNode.text)\n",
    "codeUL = codeNode.find_next_sibling()\n",
    "for eachLi in codeUL.find_all('li'):\n",
    "    print(eachLi.span.text)\n",
    "    paltForms = []\n",
    "    for aNode in eachLi.find_all('a'):\n",
    "        paltForms.append(aNode.text)\n",
    "    print(paltForms)"
   ]
  },
  {
   "cell_type": "code",
   "execution_count": 79,
   "metadata": {},
   "outputs": [
    {
     "output_type": "stream",
     "name": "stdout",
     "text": [
      "See also\n"
     ]
    }
   ],
   "source": [
    "seeAlsoNode = H_2list[2]\n",
    "print(seeAlsoNode.text)\n",
    "liList = seeAlsoNode.find_next_sibling().findAll('li')"
   ]
  },
  {
   "cell_type": "code",
   "execution_count": 80,
   "metadata": {},
   "outputs": [],
   "source": [
    "emojiList = []\n",
    "\n",
    "for node in liList:\n",
    "    emoji = {}\n",
    "    emoji['emoji'] = node.span.text\n",
    "    node.span.decompose()\n",
    "    emoji['name'] = node.text.strip()\n",
    "    emoji['url'] = node.a['href']\n",
    "    emojiList.append(emoji)"
   ]
  },
  {
   "cell_type": "code",
   "execution_count": 81,
   "metadata": {},
   "outputs": [
    {
     "output_type": "execute_result",
     "data": {
      "text/plain": [
       "[{'emoji': '🧺', 'name': 'Basket', 'url': '/basket/'},\n",
       " {'emoji': '✂️', 'name': 'Scissors', 'url': '/scissors/'},\n",
       " {'emoji': '🧹', 'name': 'Broom', 'url': '/broom/'},\n",
       " {'emoji': '🐈', 'name': 'Cat', 'url': '/cat/'},\n",
       " {'emoji': '🖍️', 'name': 'Crayon', 'url': '/crayon/'},\n",
       " {'emoji': '🧷', 'name': 'Safety Pin', 'url': '/safety-pin/'},\n",
       " {'emoji': '🧣', 'name': 'Scarf', 'url': '/scarf/'},\n",
       " {'emoji': '\\U0001faa1', 'name': 'Sewing Needle', 'url': '/sewing-needle/'},\n",
       " {'emoji': '🐑', 'name': 'Ewe', 'url': '/ewe/'},\n",
       " {'emoji': '❄️', 'name': 'Snowflake', 'url': '/snowflake/'},\n",
       " {'emoji': '🧦', 'name': 'Socks', 'url': '/socks/'},\n",
       " {'emoji': '🧵', 'name': 'Thread', 'url': '/thread/'},\n",
       " {'emoji': '💉', 'name': 'Syringe', 'url': '/syringe/'},\n",
       " {'emoji': '🎾', 'name': 'Tennis', 'url': '/tennis/'}]"
      ]
     },
     "metadata": {},
     "execution_count": 81
    }
   ],
   "source": [
    "emojiList"
   ]
  }
 ]
}