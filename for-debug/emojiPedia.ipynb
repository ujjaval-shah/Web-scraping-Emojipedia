{
 "metadata": {
  "language_info": {
   "codemirror_mode": {
    "name": "ipython",
    "version": 3
   },
   "file_extension": ".py",
   "mimetype": "text/x-python",
   "name": "python",
   "nbconvert_exporter": "python",
   "pygments_lexer": "ipython3",
   "version": "3.7.7-final"
  },
  "orig_nbformat": 2,
  "kernelspec": {
   "name": "Python 3.7.7 32-bit",
   "display_name": "Python 3.7.7 32-bit",
   "metadata": {
    "interpreter": {
     "hash": "ac1241768a571afb2340b55f25e4d28259aa0600cc6e74978ed5bb0ebb17c0a9"
    }
   }
  }
 },
 "nbformat": 4,
 "nbformat_minor": 2,
 "cells": [
  {
   "cell_type": "code",
   "execution_count": 2,
   "metadata": {},
   "outputs": [],
   "source": [
    "import httplib2\n",
    "from bs4 import BeautifulSoup\n",
    "http = httplib2.Http()"
   ]
  },
  {
   "cell_type": "code",
   "execution_count": 3,
   "metadata": {
    "tags": []
   },
   "outputs": [],
   "source": [
    "url = 'https://emojipedia.org/'\n",
    "status, response = http.request(url)\n",
    "soup = BeautifulSoup(response)"
   ]
  },
  {
   "cell_type": "code",
   "execution_count": 4,
   "metadata": {},
   "outputs": [],
   "source": [
    "urlNodes = soup.find('div',{'class': 'block'}).findAll('a')"
   ]
  },
  {
   "cell_type": "code",
   "execution_count": 5,
   "metadata": {},
   "outputs": [],
   "source": [
    "categories = [ { \"category\":node.text, \"url\":node['href'] } for node in urlNodes]"
   ]
  },
  {
   "cell_type": "code",
   "execution_count": 8,
   "metadata": {},
   "outputs": [
    {
     "output_type": "execute_result",
     "data": {
      "text/plain": [
       "['😃 Smileys & People',\n",
       " '🐻 Animals & Nature',\n",
       " '🍔 Food & Drink',\n",
       " '⚽ Activity',\n",
       " '🌇 Travel & Places',\n",
       " '💡 Objects',\n",
       " '🔣 Symbols',\n",
       " '🎌 Flags']"
      ]
     },
     "metadata": {},
     "execution_count": 8
    }
   ],
   "source": [
    "[ i[\"category\"][:] for i in categories ]"
   ]
  },
  {
   "source": [],
   "cell_type": "markdown",
   "metadata": {}
  }
 ]
}