{
 "metadata": {
  "language_info": {
   "codemirror_mode": {
    "name": "ipython",
    "version": 3
   },
   "file_extension": ".py",
   "mimetype": "text/x-python",
   "name": "python",
   "nbconvert_exporter": "python",
   "pygments_lexer": "ipython3",
   "version": "3.7.7-final"
  },
  "orig_nbformat": 2,
  "kernelspec": {
   "name": "python37732bit17c79a8524604a438bb05089a824675b",
   "display_name": "Python 3.7.7 32-bit"
  }
 },
 "nbformat": 4,
 "nbformat_minor": 2,
 "cells": [
  {
   "cell_type": "code",
   "execution_count": 22,
   "metadata": {},
   "outputs": [],
   "source": [
    "import json\n",
    "import httplib2\n",
    "from bs4 import BeautifulSoup\n",
    "http = httplib2.Http()\n",
    "\n",
    "with open('categoryDetails.json') as json_file:\n",
    "    data = json.load(json_file)\n",
    "\n",
    "obj1 = {\n",
    "    \"emoji\": \"\\ud83c\\udf89\",\n",
    "    \"name\": \"Party Popper\",\n",
    "    \"url\": \"/party-popper/\"\n",
    "}\n",
    "\n",
    "url = data['home'] + obj1['url'][1:]\n",
    "status, response = http.request(url)\n",
    "\n",
    "soup = BeautifulSoup(response)"
   ]
  },
  {
   "cell_type": "code",
   "execution_count": 23,
   "metadata": {},
   "outputs": [
    {
     "output_type": "stream",
     "name": "stdout",
     "text": [
      "🎉\nParty Popper\n"
     ]
    }
   ],
   "source": [
    "articleNode = soup.article\n",
    "H_1 = articleNode.h1\n",
    "print(H_1.span.text)\n",
    "H_1.span.decompose()\n",
    "print(H_1.text.strip())"
   ]
  },
  {
   "cell_type": "code",
   "execution_count": 24,
   "metadata": {
    "tags": []
   },
   "outputs": [],
   "source": [
    "sectionNode = articleNode.find('section',{'class':['vendor-list']})\n",
    "allLi = sectionNode.findAll('div',{'class':['vendor-rollout-target']})"
   ]
  },
  {
   "cell_type": "code",
   "execution_count": 29,
   "metadata": {},
   "outputs": [
    {
     "output_type": "stream",
     "name": "stdout",
     "text": [
      "17\n{\n    \"images\": [\n        {\n            \"platform\": \"Apple\",\n            \"img_src\": \"https://emojipedia-us.s3.dualstack.us-west-1.amazonaws.com/thumbs/120/apple/271/party-popper_1f389.png\",\n            \"img_alt\": \"Party Popper on Apple iOS 14.2\"\n        },\n        {\n            \"platform\": \"Google\",\n            \"img_src\": \"https://emojipedia-us.s3.dualstack.us-west-1.amazonaws.com/thumbs/120/google/263/party-popper_1f389.png\",\n            \"img_alt\": \"Party Popper on Google Android 11.0\"\n        },\n        {\n            \"platform\": \"Samsung\",\n            \"img_src\": \"https://emojipedia-us.s3.dualstack.us-west-1.amazonaws.com/thumbs/120/samsung/265/party-popper_1f389.png\",\n            \"img_alt\": \"Party Popper on Samsung One UI 2.5\"\n        },\n        {\n            \"platform\": \"Microsoft\",\n            \"img_src\": \"https://emojipedia-us.s3.dualstack.us-west-1.amazonaws.com/thumbs/120/microsoft/209/party-popper_1f389.png\",\n            \"img_alt\": \"Party Popper on Microsoft Windows 10 May 2019 Update\"\n        },\n        {\n            \"platform\": \"WhatsApp\",\n            \"img_src\": \"https://emojipedia-us.s3.dualstack.us-west-1.amazonaws.com/thumbs/120/whatsapp/268/party-popper_1f389.png\",\n            \"img_alt\": \"Party Popper on WhatsApp 2.20.198.15\"\n        },\n        {\n            \"platform\": \"Twitter\",\n            \"img_src\": \"https://emojipedia-us.s3.dualstack.us-west-1.amazonaws.com/thumbs/120/twitter/259/party-popper_1f389.png\",\n            \"img_alt\": \"Party Popper on Twitter Twemoji 13.0.1\"\n        },\n        {\n            \"platform\": \"Facebook\",\n            \"img_src\": \"https://emojipedia-us.s3.dualstack.us-west-1.amazonaws.com/thumbs/120/facebook/230/party-popper_1f389.png\",\n            \"img_alt\": \"Party Popper on Facebook 4.0\"\n        },\n        {\n            \"platform\": \"JoyPixels\",\n            \"img_src\": \"https://emojipedia-us.s3.dualstack.us-west-1.amazonaws.com/thumbs/120/joypixels/257/party-popper_1f389.png\",\n            \"img_alt\": \"Party Popper on JoyPixels 6.0\"\n        },\n        {\n            \"platform\": \"OpenMoji\",\n            \"img_src\": \"https://emojipedia-us.s3.dualstack.us-west-1.amazonaws.com/thumbs/120/openmoji/272/party-popper_1f389.png\",\n            \"img_alt\": \"Party Popper on OpenMoji 13.0\"\n        },\n        {\n            \"platform\": \"emojidex\",\n            \"img_src\": \"https://emojipedia-us.s3.dualstack.us-west-1.amazonaws.com/thumbs/120/emojidex/112/party-popper_1f389.png\",\n            \"img_alt\": \"Party Popper on emojidex 1.0.34\"\n        },\n        {\n            \"platform\": \"Messenger\",\n            \"img_src\": \"https://emojipedia-us.s3.dualstack.us-west-1.amazonaws.com/thumbs/120/facebook/65/party-popper_1f389.png\",\n            \"img_alt\": \"Party Popper on Messenger 1.0\"\n        },\n        {\n            \"platform\": \"LG\",\n            \"img_src\": \"https://emojipedia-us.s3.dualstack.us-west-1.amazonaws.com/thumbs/120/lg/57/party-popper_1f389.png\",\n            \"img_alt\": \"Party Popper on LG G5\"\n        },\n        {\n            \"platform\": \"HTC\",\n            \"img_src\": \"https://emojipedia-us.s3.dualstack.us-west-1.amazonaws.com/thumbs/120/htc/37/party-popper_1f389.png\",\n            \"img_alt\": \"Party Popper on HTC Sense 7\"\n        },\n        {\n            \"platform\": \"Mozilla\",\n            \"img_src\": \"https://emojipedia-us.s3.dualstack.us-west-1.amazonaws.com/thumbs/120/mozilla/36/party-popper_1f389.png\",\n            \"img_alt\": \"Party Popper on Mozilla Firefox OS 2.5\"\n        },\n        {\n            \"platform\": \"SoftBank\",\n            \"img_src\": \"https://emojipedia-us.s3.dualstack.us-west-1.amazonaws.com/thumbs/120/softbank/145/party-popper_1f389.png\",\n            \"img_alt\": \"Party Popper on SoftBank 2014\"\n        },\n        {\n            \"platform\": \"Docomo\",\n            \"img_src\": \"https://emojipedia-us.s3.dualstack.us-west-1.amazonaws.com/thumbs/120/docomo/205/party-popper_1f389.png\",\n            \"img_alt\": \"Party Popper on Docomo 2013\"\n        },\n        {\n            \"platform\": \"au by KDDI\",\n            \"img_src\": \"https://emojipedia-us.s3.dualstack.us-west-1.amazonaws.com/thumbs/120/au-kddi/190/party-popper_1f389.png\",\n            \"img_alt\": \"Party Popper on au by KDDI Type F\"\n        }\n    ]\n}\n"
     ]
    }
   ],
   "source": [
    "myDict = {\"images\":[]}\n",
    "\n",
    "print(len(allLi))\n",
    "for Li in allLi:\n",
    "    img_obj = {}\n",
    "    img_obj[\"platform\"] = (Li.h2.text)\n",
    "    theImage = Li.img\n",
    "    img_obj[\"img_src\"] = (theImage['src'])\n",
    "    img_obj[\"img_alt\"] = (theImage['alt'])\n",
    "    myDict['images'].append(img_obj)\n",
    "\n",
    "print(json.dumps(myDict, indent=4))"
   ]
  },
  {
   "cell_type": "code",
   "execution_count": null,
   "metadata": {},
   "outputs": [],
   "source": []
  }
 ]
}