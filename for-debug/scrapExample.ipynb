{
 "metadata": {
  "language_info": {
   "codemirror_mode": {
    "name": "ipython",
    "version": 3
   },
   "file_extension": ".py",
   "mimetype": "text/x-python",
   "name": "python",
   "nbconvert_exporter": "python",
   "pygments_lexer": "ipython3",
   "version": "3.7.7-final"
  },
  "orig_nbformat": 2,
  "kernelspec": {
   "name": "Python 3.7.7 32-bit",
   "display_name": "Python 3.7.7 32-bit",
   "metadata": {
    "interpreter": {
     "hash": "ac1241768a571afb2340b55f25e4d28259aa0600cc6e74978ed5bb0ebb17c0a9"
    }
   }
  }
 },
 "nbformat": 4,
 "nbformat_minor": 2,
 "cells": [
  {
   "cell_type": "code",
   "execution_count": 28,
   "metadata": {},
   "outputs": [
    {
     "output_type": "execute_result",
     "data": {
      "text/plain": [
       "{'date': 'Mon, 19 Oct 2020 13:31:12 GMT',\n",
       " 'content-type': 'text/html; charset=utf-8',\n",
       " 'transfer-encoding': 'chunked',\n",
       " 'connection': 'keep-alive',\n",
       " 'set-cookie': '__cfduid=dfb8ed97ed0e32d06bdceddf3879d4ff01603114271; expires=Wed, 18-Nov-20 13:31:11 GMT; path=/; domain=.emojipedia.org; HttpOnly; SameSite=Lax',\n",
       " 'x-frame-options': 'SAMEORIGIN',\n",
       " 'expires': 'Mon, 19 Oct 2020 17:30:51 GMT',\n",
       " 'cache-control': 'max-age=14400',\n",
       " 'strict-transport-security': 'max-age=86400',\n",
       " 'x-content-type-options': 'nosniff',\n",
       " 'x-xss-protection': '1; mode=block',\n",
       " 'cf-cache-status': 'DYNAMIC',\n",
       " 'cf-request-id': '05e2a79a390000de6e2e864000000001',\n",
       " 'expect-ct': 'max-age=604800, report-uri=\"https://report-uri.cloudflare.com/cdn-cgi/beacon/expect-ct\"',\n",
       " 'server': 'cloudflare',\n",
       " 'cf-ray': '5e4adba38812de6e-BOM',\n",
       " 'status': '200',\n",
       " 'content-length': '59937',\n",
       " '-content-encoding': 'gzip',\n",
       " 'content-location': 'https://emojipedia.org/people/'}"
      ]
     },
     "metadata": {},
     "execution_count": 28
    }
   ],
   "source": [
    "import httplib2\n",
    "from bs4 import BeautifulSoup\n",
    "\n",
    "http = httplib2.Http()\n",
    "status, response = http.request('https://emojipedia.org/people/')\n",
    "status"
   ]
  },
  {
   "cell_type": "code",
   "execution_count": 3,
   "metadata": {},
   "outputs": [],
   "source": [
    "soup = BeautifulSoup(response)"
   ]
  },
  {
   "cell_type": "code",
   "execution_count": 7,
   "metadata": {},
   "outputs": [],
   "source": [
    "soup_as_string = soup.prettify()"
   ]
  },
  {
   "cell_type": "code",
   "execution_count": 19,
   "metadata": {},
   "outputs": [],
   "source": [
    "utag = soup.find('ul', {\"class\":['emoji-list']} )"
   ]
  },
  {
   "cell_type": "code",
   "execution_count": 24,
   "metadata": {},
   "outputs": [
    {
     "output_type": "execute_result",
     "data": {
      "text/plain": [
       "{'class': ['emoji-list']}"
      ]
     },
     "metadata": {},
     "execution_count": 24
    }
   ],
   "source": [
    "utag.attrs"
   ]
  },
  {
   "cell_type": "code",
   "execution_count": 26,
   "metadata": {},
   "outputs": [
    {
     "output_type": "stream",
     "name": "stdout",
     "text": [
      "😀 Grinning Face😃 Grinning Face with Big Eyes😄 Grinning Face with Smiling Eyes😁 Beaming Face with Smiling Eyes😆 Grinning Squinting Face😅 Grinning Face with Sweat🤣 Rolling on the Floor Laughing😂 Face with Tears of Joy🙂 Slightly Smiling Face🙃 Upside-Down Face😉 Winking Face😊 Smiling Face with Smiling Eyes😇 Smiling Face with Halo🥰 Smiling Face with Hearts😍 Smiling Face with Heart-Eyes🤩 Star-Struck😘 Face Blowing a Kiss😗 Kissing Face☺ Smiling Face😚 Kissing Face with Closed Eyes😙 Kissing Face with Smiling Eyes🥲 Smiling Face with Tear😋 Face Savoring Food😛 Face with Tongue😜 Winking Face with Tongue🤪 Zany Face😝 Squinting Face with Tongue🤑 Money-Mouth Face🤗 Hugging Face🤭 Face with Hand Over Mouth🤫 Shushing Face🤔 Thinking Face🤐 Zipper-Mouth Face🤨 Face with Raised Eyebrow😐 Neutral Face😑 Expressionless Face😶 Face Without Mouth😏 Smirking Face😒 Unamused Face🙄 Face with Rolling Eyes😬 Grimacing Face🤥 Lying Face😌 Relieved Face😔 Pensive Face😪 Sleepy Face🤤 Drooling Face😴 Sleeping Face😷 Face with Medical Mask🤒 Face with Thermometer🤕 Face with Head-Bandage🤢 Nauseated Face🤮 Face Vomiting🤧 Sneezing Face🥵 Hot Face🥶 Cold Face🥴 Woozy Face😵 Dizzy Face🤯 Exploding Head🤠 Cowboy Hat Face🥳 Partying Face🥸 Disguised Face😎 Smiling Face with Sunglasses🤓 Nerd Face🧐 Face with Monocle😕 Confused Face😟 Worried Face🙁 Slightly Frowning Face☹ Frowning Face😮 Face with Open Mouth😯 Hushed Face😲 Astonished Face😳 Flushed Face🥺 Pleading Face😦 Frowning Face with Open Mouth😧 Anguished Face😨 Fearful Face😰 Anxious Face with Sweat😥 Sad but Relieved Face😢 Crying Face😭 Loudly Crying Face😱 Face Screaming in Fear😖 Confounded Face😣 Persevering Face😞 Disappointed Face😓 Downcast Face with Sweat😩 Weary Face😫 Tired Face🥱 Yawning Face😤 Face with Steam From Nose😡 Pouting Face😠 Angry Face🤬 Face with Symbols on Mouth😈 Smiling Face with Horns👿 Angry Face with Horns💀 Skull☠ Skull and Crossbones💩 Pile of Poo🤡 Clown Face👹 Ogre👺 Goblin👻 Ghost👽 Alien👾 Alien Monster🤖 Robot😺 Grinning Cat😸 Grinning Cat with Smiling Eyes😹 Cat with Tears of Joy😻 Smiling Cat with Heart-Eyes😼 Cat with Wry Smile😽 Kissing Cat🙀 Weary Cat😿 Crying Cat😾 Pouting Cat💋 Kiss Mark👋 Waving Hand🤚 Raised Back of Hand🖐 Hand with Fingers Splayed✋ Raised Hand🖖 Vulcan Salute👌 OK Hand🤏 Pinching Hand✌ Victory Hand🤞 Crossed Fingers🤟 Love-You Gesture🤘 Sign of the Horns🤙 Call Me Hand👈 Backhand Index Pointing Left👉 Backhand Index Pointing Right👆 Backhand Index Pointing Up🖕 Middle Finger👇 Backhand Index Pointing Down☝ Index Pointing Up👍 Thumbs Up👎 Thumbs Down✊ Raised Fist👊 Oncoming Fist🤛 Left-Facing Fist🤜 Right-Facing Fist👏 Clapping Hands🙌 Raising Hands👐 Open Hands🤲 Palms Up Together🤝 Handshake🙏 Folded Hands✍ Writing Hand💅 Nail Polish🤳 Selfie💪 Flexed Biceps🦾 Mechanical Arm🦿 Mechanical Leg🦵 Leg🦶 Foot👂 Ear🦻 Ear with Hearing Aid👃 Nose🧠 Brain🦷 Tooth🦴 Bone👀 Eyes👁 Eye👅 Tongue👄 Mouth👶 Baby🧒 Child👦 Boy👧 Girl🧑 Person👱 Person: Blond Hair👨 Man🧔 Person: Beard👨‍🦰 Man: Red Hair👨‍🦱 Man: Curly Hair👨‍🦳 Man: White Hair👨‍🦲 Man: Bald👩 Woman👩‍🦰 Woman: Red Hair🧑‍🦰 Person: Red Hair👩‍🦱 Woman: Curly Hair🧑‍🦱 Person: Curly Hair👩‍🦳 Woman: White Hair🧑‍🦳 Person: White Hair👩‍🦲 Woman: Bald🧑‍🦲 Person: Bald👱‍♀️ Woman: Blond Hair👱‍♂️ Man: Blond Hair🧓 Older Person👴 Old Man👵 Old Woman🙍 Person Frowning🙍‍♂️ Man Frowning🙍‍♀️ Woman Frowning🙎 Person Pouting🙎‍♂️ Man Pouting🙎‍♀️ Woman Pouting🙅 Person Gesturing No🙅‍♂️ Man Gesturing No🙅‍♀️ Woman Gesturing No🙆 Person Gesturing OK🙆‍♂️ Man Gesturing OK🙆‍♀️ Woman Gesturing OK💁 Person Tipping Hand💁‍♂️ Man Tipping Hand💁‍♀️ Woman Tipping Hand🙋 Person Raising Hand🙋‍♂️ Man Raising Hand🙋‍♀️ Woman Raising Hand🧏 Deaf Person🧏‍♂️ Deaf Man🧏‍♀️ Deaf Woman🙇 Person Bowing🙇‍♂️ Man Bowing🙇‍♀️ Woman Bowing🤦 Person Facepalming🤦‍♂️ Man Facepalming🤦‍♀️ Woman Facepalming🤷 Person Shrugging🤷‍♂️ Man Shrugging🤷‍♀️ Woman Shrugging🧑‍⚕️ Health Worker👨‍⚕️ Man Health Worker👩‍⚕️ Woman Health Worker🧑‍🎓 Student👨‍🎓 Man Student👩‍🎓 Woman Student🧑‍🏫 Teacher👨‍🏫 Man Teacher👩‍🏫 Woman Teacher🧑‍⚖️ Judge👨‍⚖️ Man Judge👩‍⚖️ Woman Judge🧑‍🌾 Farmer👨‍🌾 Man Farmer👩‍🌾 Woman Farmer🧑‍🍳 Cook👨‍🍳 Man Cook👩‍🍳 Woman Cook🧑‍🔧 Mechanic👨‍🔧 Man Mechanic👩‍🔧 Woman Mechanic🧑‍🏭 Factory Worker👨‍🏭 Man Factory Worker👩‍🏭 Woman Factory Worker🧑‍💼 Office Worker👨‍💼 Man Office Worker👩‍💼 Woman Office Worker🧑‍🔬 Scientist👨‍🔬 Man Scientist👩‍🔬 Woman Scientist🧑‍💻 Technologist👨‍💻 Man Technologist👩‍💻 Woman Technologist🧑‍🎤 Singer👨‍🎤 Man Singer👩‍🎤 Woman Singer🧑‍🎨 Artist👨‍🎨 Man Artist👩‍🎨 Woman Artist🧑‍✈️ Pilot👨‍✈️ Man Pilot👩‍✈️ Woman Pilot🧑‍🚀 Astronaut👨‍🚀 Man Astronaut👩‍🚀 Woman Astronaut🧑‍🚒 Firefighter👨‍🚒 Man Firefighter👩‍🚒 Woman Firefighter👮 Police Officer👮‍♂️ Man Police Officer👮‍♀️ Woman Police Officer🕵 Detective🕵️‍♂️ Man Detective🕵️‍♀️ Woman Detective💂 Guard💂‍♂️ Man Guard💂‍♀️ Woman Guard👷 Construction Worker👷‍♂️ Man Construction Worker👷‍♀️ Woman Construction Worker🤴 Prince👸 Princess👳 Person Wearing Turban👳‍♂️ Man Wearing Turban👳‍♀️ Woman Wearing Turban👲 Person With Skullcap🧕 Woman with Headscarf🤵 Person in Tuxedo👰 Person With Veil🤰 Pregnant Woman🤱 Breast-Feeding🧑‍🍼 Person Feeding Baby👼 Baby Angel🎅 Santa Claus🤶 Mrs. Claus🦸 Superhero🦸‍♂️ Man Superhero🦸‍♀️ Woman Superhero🦹 Supervillain🦹‍♂️ Man Supervillain🦹‍♀️ Woman Supervillain🧙 Mage🧙‍♂️ Man Mage🧙‍♀️ Woman Mage🧚 Fairy🧚‍♂️ Man Fairy🧚‍♀️ Woman Fairy🧛 Vampire🧛‍♂️ Man Vampire🧛‍♀️ Woman Vampire🧜 Merperson🧜‍♂️ Merman🧜‍♀️ Mermaid🧝 Elf🧝‍♂️ Man Elf🧝‍♀️ Woman Elf🧞 Genie🧞‍♂️ Man Genie🧞‍♀️ Woman Genie🧟 Zombie🧟‍♂️ Man Zombie🧟‍♀️ Woman Zombie💆 Person Getting Massage💆‍♂️ Man Getting Massage💆‍♀️ Woman Getting Massage💇 Person Getting Haircut💇‍♂️ Man Getting Haircut💇‍♀️ Woman Getting Haircut🚶 Person Walking🚶‍♂️ Man Walking🚶‍♀️ Woman Walking🧍 Person Standing🧍‍♂️ Man Standing🧍‍♀️ Woman Standing🧎 Person Kneeling🧎‍♂️ Man Kneeling🧎‍♀️ Woman Kneeling🧑‍🦯 Person with White Cane👨‍🦯 Man with White Cane👩‍🦯 Woman with White Cane🧑‍🦼 Person in Motorized Wheelchair👨‍🦼 Man in Motorized Wheelchair👩‍🦼 Woman in Motorized Wheelchair🧑‍🦽 Person in Manual Wheelchair👨‍🦽 Man in Manual Wheelchair👩‍🦽 Woman in Manual Wheelchair🏃 Person Running🏃‍♂️ Man Running🏃‍♀️ Woman Running💃 Woman Dancing🕺 Man Dancing🕴 Person in Suit Levitating👯 People with Bunny Ears👯‍♂️ Men with Bunny Ears👯‍♀️ Women with Bunny Ears🧖 Person in Steamy Room🧖‍♂️ Man in Steamy Room🧖‍♀️ Woman in Steamy Room🧘 Person in Lotus Position🧑‍🤝‍🧑 People Holding Hands👭 Women Holding Hands👫 Woman and Man Holding Hands👬 Men Holding Hands💏 Kiss👩‍❤️‍💋‍👨 Kiss: Woman, Man👨‍❤️‍💋‍👨 Kiss: Man, Man👩‍❤️‍💋‍👩 Kiss: Woman, Woman💑 Couple with Heart👩‍❤️‍👨 Couple with Heart: Woman, Man👨‍❤️‍👨 Couple with Heart: Man, Man👩‍❤️‍👩 Couple with Heart: Woman, Woman👪 Family👨‍👩‍👦 Family: Man, Woman, Boy👨‍👩‍👧 Family: Man, Woman, Girl👨‍👩‍👧‍👦 Family: Man, Woman, Girl, Boy👨‍👩‍👦‍👦 Family: Man, Woman, Boy, Boy👨‍👩‍👧‍👧 Family: Man, Woman, Girl, Girl👨‍👨‍👦 Family: Man, Man, Boy👨‍👨‍👧 Family: Man, Man, Girl👨‍👨‍👧‍👦 Family: Man, Man, Girl, Boy👨‍👨‍👦‍👦 Family: Man, Man, Boy, Boy👨‍👨‍👧‍👧 Family: Man, Man, Girl, Girl👩‍👩‍👦 Family: Woman, Woman, Boy👩‍👩‍👧 Family: Woman, Woman, Girl👩‍👩‍👧‍👦 Family: Woman, Woman, Girl, Boy👩‍👩‍👦‍👦 Family: Woman, Woman, Boy, Boy👩‍👩‍👧‍👧 Family: Woman, Woman, Girl, Girl👨‍👦 Family: Man, Boy👨‍👦‍👦 Family: Man, Boy, Boy👨‍👧 Family: Man, Girl👨‍👧‍👦 Family: Man, Girl, Boy👨‍👧‍👧 Family: Man, Girl, Girl👩‍👦 Family: Woman, Boy👩‍👦‍👦 Family: Woman, Boy, Boy👩‍👧 Family: Woman, Girl👩‍👧‍👦 Family: Woman, Girl, Boy👩‍👧‍👧 Family: Woman, Girl, Girl🗣 Speaking Head👤 Bust in Silhouette👥 Busts in Silhouette👣 Footprints🧳 Luggage🌂 Closed Umbrella☂ Umbrella🎃 Jack-O-Lantern🧵 Thread🧶 Yarn👓 Glasses🕶 Sunglasses🥽 Goggles🥼 Lab Coat🦺 Safety Vest👔 Necktie👕 T-Shirt👖 Jeans🧣 Scarf🧤 Gloves🧥 Coat🧦 Socks👗 Dress👘 Kimono🥻 Sari🩱 One-Piece Swimsuit🩲 Briefs🩳 Shorts👙 Bikini👚 Woman’s Clothes👛 Purse👜 Handbag👝 Clutch Bag🎒 Backpack👞 Man’s Shoe👟 Running Shoe🥾 Hiking Boot🥿 Flat Shoe👠 High-Heeled Shoe👡 Woman’s Sandal🩰 Ballet Shoes👢 Woman’s Boot👑 Crown👒 Woman’s Hat🎩 Top Hat🎓 Graduation Cap🧢 Billed Cap⛑ Rescue Worker’s Helmet💄 Lipstick💍 Ring💼 Briefcase🩸 Drop of Blood"
     ]
    }
   ],
   "source": [
    "for xtag in utag.findAll('li'):\n",
    "    print(xtag.text, end=\"\")"
   ]
  },
  {
   "cell_type": "code",
   "execution_count": null,
   "metadata": {},
   "outputs": [],
   "source": []
  }
 ]
}